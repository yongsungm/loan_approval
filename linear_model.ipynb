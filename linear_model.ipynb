{
 "cells": [
  {
   "cell_type": "code",
   "execution_count": 4,
   "id": "9b811ed7-2520-4ff0-be0f-0ba374467ca8",
   "metadata": {},
   "outputs": [
    {
     "name": "stdout",
     "output_type": "stream",
     "text": [
      "Model Accuracy: 0.9115866655298832\n"
     ]
    }
   ],
   "source": [
    "import pandas as pd\n",
    "import numpy as np\n",
    "from sklearn.model_selection import train_test_split\n",
    "from sklearn.preprocessing import StandardScaler, OneHotEncoder\n",
    "from sklearn.compose import ColumnTransformer\n",
    "from sklearn.pipeline import Pipeline\n",
    "\n",
    "# First, let's load the data\n",
    "data = pd.read_csv('./data/train.csv')  # Assuming you'll save the data to a CSV\n",
    "\n",
    "# Data Preprocessing Steps:\n",
    "\n",
    "# 1. Handle Categorical Variables\n",
    "categorical_features = [\n",
    "    'person_home_ownership', \n",
    "    'loan_intent', \n",
    "    'loan_grade', \n",
    "    'cb_person_default_on_file'\n",
    "]\n",
    "\n",
    "# 2. Handle Numerical Variables\n",
    "numerical_features = [\n",
    "    'person_age', \n",
    "    'person_income', \n",
    "    'person_emp_length', \n",
    "    'loan_amnt', \n",
    "    'loan_int_rate', \n",
    "    'loan_percent_income', \n",
    "    'cb_person_cred_hist_length'\n",
    "]\n",
    "\n",
    "# 3. Create Preprocessing Pipeline\n",
    "preprocessor = ColumnTransformer(\n",
    "    transformers=[\n",
    "        ('num', StandardScaler(), numerical_features),\n",
    "        ('cat', OneHotEncoder(handle_unknown='ignore'), categorical_features)\n",
    "    ])\n",
    "\n",
    "# 4. Prepare Features and Target\n",
    "X = data.drop('loan_status', axis=1)\n",
    "y = data['loan_status']\n",
    "\n",
    "# 5. Split the Data\n",
    "X_train, X_test, y_train, y_test = train_test_split(\n",
    "    X, y, test_size=0.2, random_state=42\n",
    ")\n",
    "\n",
    "# 6. Create Full Pipeline (example with logistic regression)\n",
    "from sklearn.linear_model import LogisticRegression\n",
    "\n",
    "model_pipeline = Pipeline([\n",
    "    ('preprocessor', preprocessor),\n",
    "    ('classifier', LogisticRegression())\n",
    "])\n",
    "\n",
    "# 7. Fit the Model\n",
    "model_pipeline.fit(X_train, y_train)\n",
    "\n",
    "# 8. Evaluate the Model\n",
    "print(\"Model Accuracy:\", model_pipeline.score(X_test, y_test))"
   ]
  },
  {
   "cell_type": "code",
   "execution_count": null,
   "id": "68e3565b-c4a2-436c-80ef-fe4200008ff7",
   "metadata": {},
   "outputs": [],
   "source": []
  }
 ],
 "metadata": {
  "kernelspec": {
   "display_name": "Python 3 (ipykernel)",
   "language": "python",
   "name": "python3"
  },
  "language_info": {
   "codemirror_mode": {
    "name": "ipython",
    "version": 3
   },
   "file_extension": ".py",
   "mimetype": "text/x-python",
   "name": "python",
   "nbconvert_exporter": "python",
   "pygments_lexer": "ipython3",
   "version": "3.11.8"
  },
  "widgets": {
   "application/vnd.jupyter.widget-state+json": {
    "state": {},
    "version_major": 2,
    "version_minor": 0
   }
  }
 },
 "nbformat": 4,
 "nbformat_minor": 5
}
