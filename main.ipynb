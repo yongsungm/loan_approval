{
 "cells": [
  {
   "cell_type": "code",
   "execution_count": 1,
   "id": "4f8bae81-45cd-459a-a4fe-1f2f480538fc",
   "metadata": {},
   "outputs": [],
   "source": [
    "import torch\n",
    "import torch.nn as nn\n",
    "import torch.optim as optim\n",
    "from torch.utils.data import Dataset, DataLoader\n",
    "import pandas as pd\n",
    "import numpy as np\n",
    "from sklearn.model_selection import train_test_split\n",
    "from sklearn.preprocessing import StandardScaler, LabelEncoder, OneHotEncoder\n",
    "from sklearn.compose import ColumnTransformer\n",
    "from sklearn.pipeline import Pipeline"
   ]
  },
  {
   "cell_type": "code",
   "execution_count": 4,
   "id": "f0e4eab7-4cb6-4a1f-bb13-4238ef9cf8d5",
   "metadata": {},
   "outputs": [],
   "source": [
    "%run -i functions.ipynb"
   ]
  },
  {
   "cell_type": "code",
   "execution_count": 2,
   "id": "448ee88a-7b52-4707-8380-13014f0f199e",
   "metadata": {},
   "outputs": [
    {
     "name": "stdout",
     "output_type": "stream",
     "text": [
      "58645\n"
     ]
    }
   ],
   "source": [
    "# Load the data\n",
    "data = pd.read_csv('./data/train.csv')  # Assume data is saved to CSV\n",
    "print(len(data))\n",
    "# Separate features and target\n",
    "X = data.drop('loan_status', axis=1)\n",
    "y = data['loan_status']"
   ]
  },
  {
   "cell_type": "code",
   "execution_count": 5,
   "id": "da2dd719-ee2f-4a8b-96ad-8dd58a821632",
   "metadata": {},
   "outputs": [],
   "source": [
    "# Preprocess the data\n",
    "preprocessor = LoanPreprocessor()\n",
    "X_processed = preprocessor.fit_transform(X)"
   ]
  },
  {
   "cell_type": "code",
   "execution_count": 8,
   "id": "d8ac55dd-4157-46d4-94a4-1219ff35659e",
   "metadata": {},
   "outputs": [
    {
     "name": "stdout",
     "output_type": "stream",
     "text": [
      "46916\n"
     ]
    }
   ],
   "source": [
    "# Split the data\n",
    "X_train, X_test, y_train, y_test = train_test_split(\n",
    "    X_processed, y, test_size=0.2, random_state=42\n",
    ")\n",
    "print(len(X_train))"
   ]
  },
  {
   "cell_type": "code",
   "execution_count": 9,
   "id": "1009c8c2-b4f9-4f38-948d-1bab888d8031",
   "metadata": {},
   "outputs": [],
   "source": [
    "# Create PyTorch datasets\n",
    "train_dataset = LoanDataset(X_train, y_train.values)\n",
    "test_dataset = LoanDataset(X_test, y_test.values)"
   ]
  },
  {
   "cell_type": "code",
   "execution_count": 11,
   "id": "d25055d4-9942-49d2-b267-7fba6dcdc3eb",
   "metadata": {},
   "outputs": [],
   "source": [
    "# Create data loaders\n",
    "train_loader = DataLoader(train_dataset, batch_size=32, shuffle=True)\n",
    "test_loader = DataLoader(test_dataset, batch_size=32, shuffle=False)"
   ]
  },
  {
   "cell_type": "code",
   "execution_count": 12,
   "id": "7537d879-593b-4cf4-b6ed-485a76dbb7e6",
   "metadata": {},
   "outputs": [],
   "source": [
    "# Set up device\n",
    "device = torch.device('cuda' if torch.cuda.is_available() else 'cpu')"
   ]
  },
  {
   "cell_type": "code",
   "execution_count": 14,
   "id": "6ed5cf2d-dea0-475d-98d2-dfdacfbc0762",
   "metadata": {},
   "outputs": [],
   "source": [
    "# Initialize the model\n",
    "model = LoanNeuralNetwork(input_size=X_train.shape[1]).to(device)"
   ]
  },
  {
   "cell_type": "code",
   "execution_count": 15,
   "id": "dd7a12e4-5459-4385-abb4-7b57e97e3dcd",
   "metadata": {},
   "outputs": [],
   "source": [
    "# Loss and optimizer\n",
    "criterion = nn.BCELoss()\n",
    "optimizer = optim.Adam(model.parameters(), lr=0.001)"
   ]
  },
  {
   "cell_type": "code",
   "execution_count": 16,
   "id": "2d703e66-6e06-4a5a-8d0e-685570f651a7",
   "metadata": {},
   "outputs": [
    {
     "name": "stdout",
     "output_type": "stream",
     "text": [
      "Epoch [1/50], Loss: 0.2478\n",
      "Epoch [11/50], Loss: 0.1859\n",
      "Epoch [21/50], Loss: 0.1814\n",
      "Epoch [31/50], Loss: 0.1813\n",
      "Epoch [41/50], Loss: 0.1786\n"
     ]
    }
   ],
   "source": [
    "# Train the model\n",
    "train_model(model, train_loader, criterion, optimizer, device)"
   ]
  },
  {
   "cell_type": "code",
   "execution_count": 18,
   "id": "4a3481ee-e671-48d2-8e7c-43f2f2a4eba3",
   "metadata": {},
   "outputs": [
    {
     "name": "stdout",
     "output_type": "stream",
     "text": [
      "Accuracy on test set: 95.04%\n"
     ]
    }
   ],
   "source": [
    "# Evaluate the model\n",
    "model.eval()\n",
    "correct = 0\n",
    "total = 0\n",
    "with torch.no_grad():\n",
    "    for features, labels in test_loader:\n",
    "        features, labels = features.to(device), labels.to(device)\n",
    "        outputs = model(features)\n",
    "        predicted = (outputs.squeeze() > 0.5).float()\n",
    "        total += labels.size(0)\n",
    "        correct += (predicted == labels).sum().item()\n",
    "\n",
    "print(f'Accuracy on test set: {100 * correct / total:.2f}%')"
   ]
  },
  {
   "cell_type": "code",
   "execution_count": 17,
   "id": "d34c7f99-f2ee-4ade-8298-cb33b6731d81",
   "metadata": {},
   "outputs": [],
   "source": [
    "# def main():\n",
    "#     # Load the data\n",
    "#     data = pd.read_csv('./data/train.csv')  # Assume data is saved to CSV\n",
    "#     print(len(data))\n",
    "#     # Separate features and target\n",
    "#     X = data.drop('loan_status', axis=1)\n",
    "#     y = data['loan_status']\n",
    "    \n",
    "    # # Preprocess the data\n",
    "    # preprocessor = LoanPreprocessor()\n",
    "    # X_processed = preprocessor.fit_transform(X)\n",
    "    \n",
    "    # # Split the data\n",
    "    # X_train, X_test, y_train, y_test = train_test_split(\n",
    "    #     X_processed, y, test_size=0.2, random_state=42\n",
    "    # )\n",
    "    # print(len(X_train))\n",
    "    # # Create PyTorch datasets\n",
    "    # train_dataset = LoanDataset(X_train, y_train.values)\n",
    "    # test_dataset = LoanDataset(X_test, y_test.values)\n",
    "    \n",
    "    # # Create data loaders\n",
    "    # train_loader = DataLoader(train_dataset, batch_size=32, shuffle=True)\n",
    "    # test_loader = DataLoader(test_dataset, batch_size=32, shuffle=False)\n",
    "    \n",
    "    # # Set up device\n",
    "    # device = torch.device('cuda' if torch.cuda.is_available() else 'cpu')\n",
    "    \n",
    "    # # Initialize the model\n",
    "    # model = LoanNeuralNetwork(input_size=X_train.shape[1]).to(device)\n",
    "    \n",
    "    # # Loss and optimizer\n",
    "    # criterion = nn.BCELoss()\n",
    "    # optimizer = optim.Adam(model.parameters(), lr=0.001)\n",
    "    \n",
    "    # # Train the model\n",
    "    # train_model(model, train_loader, criterion, optimizer, device)\n",
    "    \n",
    "    # # Evaluate the model\n",
    "    # model.eval()\n",
    "    # correct = 0\n",
    "    # total = 0\n",
    "    # with torch.no_grad():\n",
    "    #     for features, labels in test_loader:\n",
    "    #         features, labels = features.to(device), labels.to(device)\n",
    "    #         outputs = model(features)\n",
    "    #         predicted = (outputs.squeeze() > 0.5).float()\n",
    "    #         total += labels.size(0)\n",
    "    #         correct += (predicted == labels).sum().item()\n",
    "    \n",
    "    # print(f'Accuracy on test set: {100 * correct / total:.2f}%')\n",
    "# if __name__ == '__main__':\n",
    "#     main()"
   ]
  }
 ],
 "metadata": {
  "kernelspec": {
   "display_name": "Python 3 (ipykernel)",
   "language": "python",
   "name": "python3"
  },
  "language_info": {
   "codemirror_mode": {
    "name": "ipython",
    "version": 3
   },
   "file_extension": ".py",
   "mimetype": "text/x-python",
   "name": "python",
   "nbconvert_exporter": "python",
   "pygments_lexer": "ipython3",
   "version": "3.11.8"
  },
  "widgets": {
   "application/vnd.jupyter.widget-state+json": {
    "state": {},
    "version_major": 2,
    "version_minor": 0
   }
  }
 },
 "nbformat": 4,
 "nbformat_minor": 5
}
