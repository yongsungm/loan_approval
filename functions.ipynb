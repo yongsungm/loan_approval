{
 "cells": [
  {
   "cell_type": "code",
   "execution_count": 1,
   "id": "a0dd0fa4-abf0-4500-8216-6edb8cbd5433",
   "metadata": {},
   "outputs": [],
   "source": [
    "import torch\n",
    "import torch.nn as nn\n",
    "import torch.optim as optim\n",
    "from torch.utils.data import Dataset, DataLoader\n",
    "import pandas as pd\n",
    "import numpy as np\n",
    "from sklearn.model_selection import train_test_split\n",
    "from sklearn.preprocessing import StandardScaler, LabelEncoder, OneHotEncoder\n",
    "from sklearn.compose import ColumnTransformer\n",
    "from sklearn.pipeline import Pipeline"
   ]
  },
  {
   "cell_type": "code",
   "execution_count": 2,
   "id": "42354527-b47a-4cfd-8ba7-72bce75e430f",
   "metadata": {},
   "outputs": [],
   "source": [
    "class LoanDataset(Dataset):\n",
    "    def __init__(self, features, labels):\n",
    "        self.features = torch.tensor(features, dtype=torch.float32)\n",
    "        self.labels = torch.tensor(labels, dtype=torch.float32)\n",
    "    \n",
    "    def __len__(self):\n",
    "        return len(self.labels)\n",
    "    \n",
    "    def __getitem__(self, idx):\n",
    "        return self.features[idx], self.labels[idx]"
   ]
  },
  {
   "cell_type": "code",
   "execution_count": 3,
   "id": "829b801e-865b-4185-bf9f-7d68994bfe75",
   "metadata": {},
   "outputs": [],
   "source": [
    "class LoanPreprocessor:\n",
    "    def __init__(self):\n",
    "        # Categorical features for one-hot encoding\n",
    "        self.categorical_features = [\n",
    "            'person_home_ownership', \n",
    "            'loan_intent', \n",
    "            'loan_grade', \n",
    "            'cb_person_default_on_file'\n",
    "        ]\n",
    "        \n",
    "        # Numerical features for scaling\n",
    "        self.numerical_features = [\n",
    "            'person_age', \n",
    "            'person_income', \n",
    "            'person_emp_length', \n",
    "            'loan_amnt', \n",
    "            'loan_int_rate', \n",
    "            'loan_percent_income', \n",
    "            'cb_person_cred_hist_length'\n",
    "        ]\n",
    "        \n",
    "        # Preprocessors\n",
    "        self.preprocessor = ColumnTransformer(\n",
    "            transformers=[\n",
    "                ('num', StandardScaler(), self.numerical_features),\n",
    "                ('cat', OneHotEncoder(handle_unknown='ignore'), self.categorical_features)\n",
    "            ])\n",
    "    \n",
    "    def fit_transform(self, X, y=None):\n",
    "        # Fit and transform the data\n",
    "        X_processed = self.preprocessor.fit_transform(X)\n",
    "        return X_processed\n",
    "    \n",
    "    def transform(self, X):\n",
    "        # Transform new data\n",
    "        X_processed = self.preprocessor.transform(X)\n",
    "        return X_processed"
   ]
  },
  {
   "cell_type": "code",
   "execution_count": 4,
   "id": "6bc45f3c-42d6-4ba5-9c03-4618b099569b",
   "metadata": {},
   "outputs": [],
   "source": [
    "class LoanNeuralNetwork(nn.Module):\n",
    "    def __init__(self, input_size):\n",
    "        super(LoanNeuralNetwork, self).__init__()\n",
    "        self.network = nn.Sequential(\n",
    "            nn.Linear(input_size, 64),\n",
    "            nn.ReLU(),\n",
    "            nn.Dropout(0.3),\n",
    "            nn.Linear(64, 32),\n",
    "            nn.ReLU(),\n",
    "            nn.Dropout(0.3),\n",
    "            nn.Linear(32, 1),\n",
    "            nn.Sigmoid()\n",
    "        )\n",
    "    \n",
    "    def forward(self, x):\n",
    "        return self.network(x)"
   ]
  },
  {
   "cell_type": "code",
   "execution_count": 5,
   "id": "bee08a7e-74b8-4deb-a269-7a21a7a6bbc4",
   "metadata": {},
   "outputs": [],
   "source": [
    "def train_model(model, train_loader, criterion, optimizer, device, epochs=50):\n",
    "    model.train()\n",
    "    for epoch in range(epochs):\n",
    "        total_loss = 0\n",
    "        for features, labels in train_loader:\n",
    "            features, labels = features.to(device), labels.to(device)\n",
    "            \n",
    "            # Zero the parameter gradients\n",
    "            optimizer.zero_grad()\n",
    "            \n",
    "            # Forward pass\n",
    "            outputs = model(features)\n",
    "            loss = criterion(outputs.squeeze(), labels)\n",
    "            \n",
    "            # Backward pass and optimize\n",
    "            loss.backward()\n",
    "            optimizer.step()\n",
    "            \n",
    "            total_loss += loss.item()\n",
    "        \n",
    "        if epoch % 10 == 0:\n",
    "            print(f'Epoch [{epoch+1}/{epochs}], Loss: {total_loss/len(train_loader):.4f}')"
   ]
  },
  {
   "cell_type": "code",
   "execution_count": null,
   "id": "85485e9e-1abe-4da1-9291-5ea1576455a5",
   "metadata": {},
   "outputs": [],
   "source": []
  }
 ],
 "metadata": {
  "kernelspec": {
   "display_name": "Python 3 (ipykernel)",
   "language": "python",
   "name": "python3"
  },
  "language_info": {
   "codemirror_mode": {
    "name": "ipython",
    "version": 3
   },
   "file_extension": ".py",
   "mimetype": "text/x-python",
   "name": "python",
   "nbconvert_exporter": "python",
   "pygments_lexer": "ipython3",
   "version": "3.11.8"
  },
  "widgets": {
   "application/vnd.jupyter.widget-state+json": {
    "state": {},
    "version_major": 2,
    "version_minor": 0
   }
  }
 },
 "nbformat": 4,
 "nbformat_minor": 5
}
